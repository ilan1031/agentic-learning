{
  "nbformat": 4,
  "nbformat_minor": 0,
  "metadata": {
    "colab": {
      "provenance": []
    },
    "kernelspec": {
      "name": "python3",
      "display_name": "Python 3"
    },
    "language_info": {
      "name": "python"
    }
  },
  "cells": [
    {
      "cell_type": "markdown",
      "metadata": {
        "id": "f22cb78d"
      },
      "source": [
        "# Task\n",
        "Build an AI contextual legal case summary tool with the following specifications:\n",
        "- **Prompt Template**: Act as a 42-year-old IP consultant mentoring a junior consultant. Include sections for \"Background,\" \"Ruling,\" and \"Relevance to Context.\" Incorporate proper legal sections, laws, acts, previous cases, and judgments.\n",
        "- **AI Model Configuration**: Set the AI model temperature between 0 and 0.3.\n",
        "- **Output Format**:\n",
        "    - Token length: 300-480 tokens.\n",
        "    - Organized into three sections:\n",
        "        - Background: The facts and context of the case.\n",
        "        - Ruling: The court’s decision and reasoning.\n",
        "        - Relevance to Context: How the case relates to the provided context.\n",
        "- **Guardrails**: Implement guardrails to ensure the output adheres to the specified format and constraints."
      ]
    },
    {
      "cell_type": "markdown",
      "metadata": {
        "id": "3b1d3bf7"
      },
      "source": [
        "## Setup\n",
        "\n",
        "### Subtask:\n",
        "Install and import necessary libraries.\n"
      ]
    },
    {
      "cell_type": "markdown",
      "metadata": {
        "id": "31a25559"
      },
      "source": [
        "**Reasoning**:\n",
        "Install the required library using pip.\n",
        "\n"
      ]
    },
    {
      "cell_type": "code",
      "metadata": {
        "colab": {
          "base_uri": "https://localhost:8080/"
        },
        "id": "986d7789",
        "outputId": "4605290f-ef12-4934-b058-5333f801744f"
      },
      "source": [
        "%pip install -U google-generativeai"
      ],
      "execution_count": 1,
      "outputs": [
        {
          "output_type": "stream",
          "name": "stdout",
          "text": [
            "Requirement already satisfied: google-generativeai in /usr/local/lib/python3.11/dist-packages (0.8.5)\n",
            "Requirement already satisfied: google-ai-generativelanguage==0.6.15 in /usr/local/lib/python3.11/dist-packages (from google-generativeai) (0.6.15)\n",
            "Requirement already satisfied: google-api-core in /usr/local/lib/python3.11/dist-packages (from google-generativeai) (2.25.1)\n",
            "Requirement already satisfied: google-api-python-client in /usr/local/lib/python3.11/dist-packages (from google-generativeai) (2.177.0)\n",
            "Requirement already satisfied: google-auth>=2.15.0 in /usr/local/lib/python3.11/dist-packages (from google-generativeai) (2.38.0)\n",
            "Requirement already satisfied: protobuf in /usr/local/lib/python3.11/dist-packages (from google-generativeai) (5.29.5)\n",
            "Requirement already satisfied: pydantic in /usr/local/lib/python3.11/dist-packages (from google-generativeai) (2.11.7)\n",
            "Requirement already satisfied: tqdm in /usr/local/lib/python3.11/dist-packages (from google-generativeai) (4.67.1)\n",
            "Requirement already satisfied: typing-extensions in /usr/local/lib/python3.11/dist-packages (from google-generativeai) (4.14.1)\n",
            "Requirement already satisfied: proto-plus<2.0.0dev,>=1.22.3 in /usr/local/lib/python3.11/dist-packages (from google-ai-generativelanguage==0.6.15->google-generativeai) (1.26.1)\n",
            "Requirement already satisfied: googleapis-common-protos<2.0.0,>=1.56.2 in /usr/local/lib/python3.11/dist-packages (from google-api-core->google-generativeai) (1.70.0)\n",
            "Requirement already satisfied: requests<3.0.0,>=2.18.0 in /usr/local/lib/python3.11/dist-packages (from google-api-core->google-generativeai) (2.32.3)\n",
            "Requirement already satisfied: cachetools<6.0,>=2.0.0 in /usr/local/lib/python3.11/dist-packages (from google-auth>=2.15.0->google-generativeai) (5.5.2)\n",
            "Requirement already satisfied: pyasn1-modules>=0.2.1 in /usr/local/lib/python3.11/dist-packages (from google-auth>=2.15.0->google-generativeai) (0.4.2)\n",
            "Requirement already satisfied: rsa<5,>=3.1.4 in /usr/local/lib/python3.11/dist-packages (from google-auth>=2.15.0->google-generativeai) (4.9.1)\n",
            "Requirement already satisfied: httplib2<1.0.0,>=0.19.0 in /usr/local/lib/python3.11/dist-packages (from google-api-python-client->google-generativeai) (0.22.0)\n",
            "Requirement already satisfied: google-auth-httplib2<1.0.0,>=0.2.0 in /usr/local/lib/python3.11/dist-packages (from google-api-python-client->google-generativeai) (0.2.0)\n",
            "Requirement already satisfied: uritemplate<5,>=3.0.1 in /usr/local/lib/python3.11/dist-packages (from google-api-python-client->google-generativeai) (4.2.0)\n",
            "Requirement already satisfied: annotated-types>=0.6.0 in /usr/local/lib/python3.11/dist-packages (from pydantic->google-generativeai) (0.7.0)\n",
            "Requirement already satisfied: pydantic-core==2.33.2 in /usr/local/lib/python3.11/dist-packages (from pydantic->google-generativeai) (2.33.2)\n",
            "Requirement already satisfied: typing-inspection>=0.4.0 in /usr/local/lib/python3.11/dist-packages (from pydantic->google-generativeai) (0.4.1)\n",
            "Requirement already satisfied: grpcio<2.0.0,>=1.33.2 in /usr/local/lib/python3.11/dist-packages (from google-api-core[grpc]!=2.0.*,!=2.1.*,!=2.10.*,!=2.2.*,!=2.3.*,!=2.4.*,!=2.5.*,!=2.6.*,!=2.7.*,!=2.8.*,!=2.9.*,<3.0.0dev,>=1.34.1->google-ai-generativelanguage==0.6.15->google-generativeai) (1.74.0)\n",
            "Requirement already satisfied: grpcio-status<2.0.0,>=1.33.2 in /usr/local/lib/python3.11/dist-packages (from google-api-core[grpc]!=2.0.*,!=2.1.*,!=2.10.*,!=2.2.*,!=2.3.*,!=2.4.*,!=2.5.*,!=2.6.*,!=2.7.*,!=2.8.*,!=2.9.*,<3.0.0dev,>=1.34.1->google-ai-generativelanguage==0.6.15->google-generativeai) (1.71.2)\n",
            "Requirement already satisfied: pyparsing!=3.0.0,!=3.0.1,!=3.0.2,!=3.0.3,<4,>=2.4.2 in /usr/local/lib/python3.11/dist-packages (from httplib2<1.0.0,>=0.19.0->google-api-python-client->google-generativeai) (3.2.3)\n",
            "Requirement already satisfied: pyasn1<0.7.0,>=0.6.1 in /usr/local/lib/python3.11/dist-packages (from pyasn1-modules>=0.2.1->google-auth>=2.15.0->google-generativeai) (0.6.1)\n",
            "Requirement already satisfied: charset-normalizer<4,>=2 in /usr/local/lib/python3.11/dist-packages (from requests<3.0.0,>=2.18.0->google-api-core->google-generativeai) (3.4.2)\n",
            "Requirement already satisfied: idna<4,>=2.5 in /usr/local/lib/python3.11/dist-packages (from requests<3.0.0,>=2.18.0->google-api-core->google-generativeai) (3.10)\n",
            "Requirement already satisfied: urllib3<3,>=1.21.1 in /usr/local/lib/python3.11/dist-packages (from requests<3.0.0,>=2.18.0->google-api-core->google-generativeai) (2.5.0)\n",
            "Requirement already satisfied: certifi>=2017.4.17 in /usr/local/lib/python3.11/dist-packages (from requests<3.0.0,>=2.18.0->google-api-core->google-generativeai) (2025.7.14)\n"
          ]
        }
      ]
    },
    {
      "cell_type": "markdown",
      "metadata": {
        "id": "64eb3473"
      },
      "source": [
        "**Reasoning**:\n",
        "Import the installed library to make it available for use.\n",
        "\n"
      ]
    },
    {
      "cell_type": "code",
      "metadata": {
        "id": "c4496198"
      },
      "source": [
        "import google.generativeai as genai"
      ],
      "execution_count": 2,
      "outputs": []
    },
    {
      "cell_type": "markdown",
      "metadata": {
        "id": "5a8f8683"
      },
      "source": [
        "## Configure ai model\n",
        "\n",
        "### Subtask:\n",
        "Configure the AI model with the specified temperature and token length.\n"
      ]
    },
    {
      "cell_type": "markdown",
      "metadata": {
        "id": "045cb8fe"
      },
      "source": [
        "**Reasoning**:\n",
        "I will now configure the generative AI model with the specified parameters. This involves setting up the API key, defining the generation configuration with the required temperature and token limits, and then instantiating the generative model. I will use a placeholder for the API key as instructed, and choose values within the specified ranges for temperature and token count.\n",
        "\n"
      ]
    },
    {
      "cell_type": "code",
      "metadata": {
        "id": "4afcf0d8"
      },
      "source": [
        "genai.configure(api_key=\"YOUR_API_KEY\")\n",
        "\n",
        "generation_config = genai.GenerationConfig(\n",
        "    temperature=0.2,\n",
        "    max_output_tokens=400,\n",
        ")\n",
        "\n",
        "model = genai.GenerativeModel(\n",
        "    model_name='gemini-1.5-flash',\n",
        "    generation_config=generation_config\n",
        ")"
      ],
      "execution_count": 3,
      "outputs": []
    },
    {
      "cell_type": "markdown",
      "metadata": {
        "id": "bfedb1cf"
      },
      "source": [
        "## Define prompt template\n",
        "\n",
        "### Subtask:\n",
        "Create a detailed prompt template incorporating the persona, required sections, and legal elements.\n"
      ]
    },
    {
      "cell_type": "markdown",
      "metadata": {
        "id": "0bdb61b9"
      },
      "source": [
        "**Reasoning**:\n",
        "Define a multi-line string variable to hold the prompt template, incorporating the persona, required sections, legal elements, and placeholders for the case data.\n",
        "\n"
      ]
    },
    {
      "cell_type": "code",
      "metadata": {
        "id": "4252016b"
      },
      "source": [
        "prompt_template = \"\"\"\n",
        "Alright junior, let's dive into this case. As your mentor, a seasoned 42-year-old IP consultant, I'll guide you on how to dissect legal cases effectively. We need to summarize this case with our current project context in mind.\n",
        "\n",
        "Here's the legal case data:\n",
        "Case Facts: {case_facts}\n",
        "Case Ruling: {case_ruling}\n",
        "Context: {context}\n",
        "\n",
        "Your task is to summarize this case, focusing on its relevance to our context. Structure your summary into the following three sections:\n",
        "\n",
        "Background:\n",
        "Provide the essential facts and the initial context of the case. Ensure you incorporate relevant legal sections, applicable laws, acts, and mention any significant previous cases or judgments that set the stage.\n",
        "\n",
        "Ruling:\n",
        "Clearly explain the court's decision and the reasoning behind it. Again, include references to the specific legal sections, laws, acts, and any prior judgments that influenced this ruling.\n",
        "\n",
        "Relevance to Context:\n",
        "Explain how this case and its ruling are pertinent to the context provided. Connect the legal principles and outcomes of this case to our current situation.\n",
        "\n",
        "Remember to be concise and focus on the information most relevant to our IP consulting work.\n",
        "\"\"\""
      ],
      "execution_count": 4,
      "outputs": []
    },
    {
      "cell_type": "markdown",
      "metadata": {
        "id": "b6680872"
      },
      "source": [
        "## Implement guardrails\n",
        "\n",
        "### Subtask:\n",
        "Add guardrails to ensure the output adheres to the specified format and constraints.\n"
      ]
    },
    {
      "cell_type": "markdown",
      "metadata": {
        "id": "5ed079ae"
      },
      "source": [
        "**Reasoning**:\n",
        "Define a function to apply the guardrails to the generated text. This function will check for the presence of the required sections and the token length.\n",
        "\n"
      ]
    },
    {
      "cell_type": "code",
      "metadata": {
        "id": "1ceab7b4"
      },
      "source": [
        "import tiktoken\n",
        "\n",
        "def enforce_guardrails(generated_text, min_tokens=300, max_tokens=480):\n",
        "    \"\"\"\n",
        "    Checks if the generated text adheres to the specified format and constraints.\n",
        "\n",
        "    Args:\n",
        "        generated_text: The text generated by the AI model.\n",
        "        min_tokens: The minimum allowed token length.\n",
        "        max_tokens: The maximum allowed token length.\n",
        "\n",
        "    Returns:\n",
        "        True if the text adheres to the constraints, False otherwise.\n",
        "    \"\"\"\n",
        "    # Check for required sections\n",
        "    required_sections = [\"Background:\", \"Ruling:\", \"Relevance to Context:\"]\n",
        "    for section in required_sections:\n",
        "        if section not in generated_text:\n",
        "            print(f\"Missing section: {section}\")\n",
        "            return False\n",
        "\n",
        "    # Check token length\n",
        "    encoding = tiktoken.get_encoding(\"cl100k_base\")\n",
        "    token_count = len(encoding.encode(generated_text))\n",
        "\n",
        "    if not (min_tokens <= token_count <= max_tokens):\n",
        "        print(f\"Token count out of range: {token_count} tokens\")\n",
        "        return False\n",
        "\n",
        "    return True\n"
      ],
      "execution_count": 5,
      "outputs": []
    },
    {
      "cell_type": "markdown",
      "metadata": {
        "id": "ff8fff5e"
      },
      "source": [
        "**Reasoning**:\n",
        "The guardrail function is defined. The next step is to integrate this function into the process of generating the summary and add logic to regenerate if needed. Since the prompt template and model are already defined, the next logical step is to create a function that uses these components, generates the text, and applies the guardrails, including regeneration logic.\n",
        "\n"
      ]
    },
    {
      "cell_type": "code",
      "metadata": {
        "id": "d46f6c0e"
      },
      "source": [
        "def generate_legal_summary(model, prompt_template, case_facts, case_ruling, context, max_retries=3):\n",
        "    \"\"\"\n",
        "    Generates a legal case summary using the AI model and enforces guardrails.\n",
        "\n",
        "    Args:\n",
        "        model: The generative AI model.\n",
        "        prompt_template: The template for the prompt.\n",
        "        case_facts: The facts of the case.\n",
        "        case_ruling: The ruling of the case.\n",
        "        context: The context for relevance.\n",
        "        max_retries: The maximum number of regeneration attempts.\n",
        "\n",
        "    Returns:\n",
        "        The generated summary if it passes guardrails, or None after max_retries.\n",
        "    \"\"\"\n",
        "    prompt = prompt_template.format(case_facts=case_facts, case_ruling=case_ruling, context=context)\n",
        "\n",
        "    for attempt in range(max_retries):\n",
        "        try:\n",
        "            response = model.generate_content(prompt)\n",
        "            generated_text = response.text\n",
        "\n",
        "            if enforce_guardrails(generated_text):\n",
        "                print(f\"Summary generated successfully after {attempt + 1} attempts.\")\n",
        "                return generated_text\n",
        "            else:\n",
        "                print(f\"Guardrail check failed on attempt {attempt + 1}. Regenerating...\")\n",
        "\n",
        "        except Exception as e:\n",
        "            print(f\"An error occurred during generation on attempt {attempt + 1}: {e}\")\n",
        "            # Optionally, add logic to modify prompt or parameters based on error type\n",
        "            pass # Continue to next attempt\n",
        "\n",
        "    print(f\"Failed to generate a valid summary after {max_retries} attempts.\")\n",
        "    return None"
      ],
      "execution_count": 6,
      "outputs": []
    },
    {
      "cell_type": "markdown",
      "metadata": {
        "id": "152c0f17"
      },
      "source": [
        "## Test the tool\n",
        "\n",
        "### Subtask:\n",
        "Test the complete setup with example legal case data to ensure it produces summaries as expected.\n"
      ]
    },
    {
      "cell_type": "markdown",
      "metadata": {
        "id": "7dd45208"
      },
      "source": [
        "**Reasoning**:\n",
        "Define example variables for case_facts, case_ruling, and context and then call the generate_legal_summary function with the defined variables and print the result.\n",
        "\n"
      ]
    },
    {
      "cell_type": "code",
      "metadata": {
        "colab": {
          "base_uri": "https://localhost:8080/",
          "height": 176
        },
        "id": "d1a2661b",
        "outputId": "2cbeab03-3ba9-4ed3-a3aa-1b7075dd9e0f"
      },
      "source": [
        "case_facts = \"\"\"\n",
        "In the case of Apple Inc. v. Samsung Electronics Co., Ltd., the dispute involved allegations of patent infringement regarding smartphone technology. Apple claimed Samsung's Galaxy line of products infringed upon Apple's patents related to design and utility features of the iPhone. The case was filed in the United States District Court for the Northern District of California.\n",
        "\"\"\"\n",
        "\n",
        "case_ruling = \"\"\"\n",
        "The court found Samsung liable for infringing several of Apple's design and utility patents. A jury awarded Apple over $1 billion in damages, which was later reduced after appeals. The ruling affirmed the protectability of smartphone design and functionality under existing patent law, including elements like the rounded corners and grid of icons.\n",
        "\"\"\"\n",
        "\n",
        "context = \"\"\"\n",
        "Our client is developing a new mobile device and wants to ensure they avoid infringing on existing patents, particularly in the areas of user interface design and hardware features similar to those involved in the Apple v. Samsung case. We need to understand the key aspects of that ruling to advise them properly.\n",
        "\"\"\"\n",
        "\n",
        "summary = generate_legal_summary(model, prompt_template, case_facts, case_ruling, context)\n",
        "\n",
        "if summary:\n",
        "    print(summary)\n",
        "else:\n",
        "    print(\"Failed to generate a valid summary.\")"
      ],
      "execution_count": 7,
      "outputs": [
        {
          "output_type": "stream",
          "name": "stderr",
          "text": [
            "WARNING:tornado.access:400 POST /v1beta/models/gemini-1.5-flash:generateContent?%24alt=json%3Benum-encoding%3Dint (127.0.0.1) 3093.90ms\n"
          ]
        },
        {
          "output_type": "stream",
          "name": "stdout",
          "text": [
            "An error occurred during generation on attempt 1: 400 POST https://generativelanguage.googleapis.com/v1beta/models/gemini-1.5-flash:generateContent?%24alt=json%3Benum-encoding%3Dint: API key not valid. Please pass a valid API key.\n"
          ]
        },
        {
          "output_type": "stream",
          "name": "stderr",
          "text": [
            "WARNING:tornado.access:400 POST /v1beta/models/gemini-1.5-flash:generateContent?%24alt=json%3Benum-encoding%3Dint (127.0.0.1) 839.95ms\n"
          ]
        },
        {
          "output_type": "stream",
          "name": "stdout",
          "text": [
            "An error occurred during generation on attempt 2: 400 POST https://generativelanguage.googleapis.com/v1beta/models/gemini-1.5-flash:generateContent?%24alt=json%3Benum-encoding%3Dint: API key not valid. Please pass a valid API key.\n",
            "An error occurred during generation on attempt 3: 400 POST https://generativelanguage.googleapis.com/v1beta/models/gemini-1.5-flash:generateContent?%24alt=json%3Benum-encoding%3Dint: API key not valid. Please pass a valid API key.\n",
            "Failed to generate a valid summary after 3 attempts.\n",
            "Failed to generate a valid summary.\n"
          ]
        },
        {
          "output_type": "stream",
          "name": "stderr",
          "text": [
            "WARNING:tornado.access:400 POST /v1beta/models/gemini-1.5-flash:generateContent?%24alt=json%3Benum-encoding%3Dint (127.0.0.1) 1113.41ms\n"
          ]
        }
      ]
    },
    {
      "cell_type": "markdown",
      "metadata": {
        "id": "6f89192f"
      },
      "source": [
        "**Reasoning**:\n",
        "The previous command failed because the API key was not valid. I need to update the API key and re-run the test with example data.\n",
        "\n"
      ]
    },
    {
      "cell_type": "code",
      "metadata": {
        "colab": {
          "base_uri": "https://localhost:8080/",
          "height": 176
        },
        "id": "VZGCIRtcuPW9",
        "outputId": "caf3e45b-2b8c-498f-dcfd-ee547e9ba96c"
      },
      "source": [
        "genai.configure(api_key=\"YOUR_API_KEY\")\n",
        "\n",
        "case_facts = \"\"\"\n",
        "In the case of Apple Inc. v. Samsung Electronics Co., Ltd., the dispute involved allegations of patent infringement regarding smartphone technology. Apple claimed Samsung's Galaxy line of products infringed upon Apple's patents related to design and utility features of the iPhone. The case was filed in the United States District Court for the Northern District of California.\n",
        "\"\"\"\n",
        "\n",
        "case_ruling = \"\"\"\n",
        "The court found Samsung liable for infringing several of Apple's design and utility patents. A jury awarded Apple over $1 billion in damages, which was later reduced after appeals. The ruling affirmed the protectability of smartphone design and functionality under existing patent law, including elements like the rounded corners and grid of icons.\n",
        "\"\"\"\n",
        "\n",
        "context = \"\"\"\n",
        "Our client is developing a new mobile device and wants to ensure they avoid infringing on existing patents, particularly in the areas of user interface design and hardware features similar to those involved in the Apple v. Samsung case. We need to understand the key aspects of that ruling to advise them properly.\n",
        "\"\"\"\n",
        "\n",
        "summary = generate_legal_summary(model, prompt_template, case_facts, case_ruling, context)\n",
        "\n",
        "if summary:\n",
        "    print(summary)\n",
        "else:\n",
        "    print(\"Failed to generate a valid summary.\")"
      ],
      "execution_count": 8,
      "outputs": [
        {
          "output_type": "stream",
          "name": "stderr",
          "text": [
            "WARNING:tornado.access:400 POST /v1beta/models/gemini-1.5-flash:generateContent?%24alt=json%3Benum-encoding%3Dint (127.0.0.1) 1270.04ms\n"
          ]
        },
        {
          "output_type": "stream",
          "name": "stdout",
          "text": [
            "An error occurred during generation on attempt 1: 400 POST https://generativelanguage.googleapis.com/v1beta/models/gemini-1.5-flash:generateContent?%24alt=json%3Benum-encoding%3Dint: API key not valid. Please pass a valid API key.\n"
          ]
        },
        {
          "output_type": "stream",
          "name": "stderr",
          "text": [
            "WARNING:tornado.access:400 POST /v1beta/models/gemini-1.5-flash:generateContent?%24alt=json%3Benum-encoding%3Dint (127.0.0.1) 909.86ms\n"
          ]
        },
        {
          "output_type": "stream",
          "name": "stdout",
          "text": [
            "An error occurred during generation on attempt 2: 400 POST https://generativelanguage.googleapis.com/v1beta/models/gemini-1.5-flash:generateContent?%24alt=json%3Benum-encoding%3Dint: API key not valid. Please pass a valid API key.\n",
            "An error occurred during generation on attempt 3: 400 POST https://generativelanguage.googleapis.com/v1beta/models/gemini-1.5-flash:generateContent?%24alt=json%3Benum-encoding%3Dint: API key not valid. Please pass a valid API key.\n",
            "Failed to generate a valid summary after 3 attempts.\n",
            "Failed to generate a valid summary.\n"
          ]
        },
        {
          "output_type": "stream",
          "name": "stderr",
          "text": [
            "WARNING:tornado.access:400 POST /v1beta/models/gemini-1.5-flash:generateContent?%24alt=json%3Benum-encoding%3Dint (127.0.0.1) 962.64ms\n"
          ]
        }
      ]
    },
    {
      "cell_type": "markdown",
      "metadata": {
        "id": "4bf399f7"
      },
      "source": [
        "## Test the tool retry 1\n",
        "\n",
        "### Subtask:\n",
        "Test the complete setup with example legal case data to ensure it produces summaries as expected. This is a retry of the previous failed attempt.\n"
      ]
    },
    {
      "cell_type": "markdown",
      "metadata": {
        "id": "ed774d09"
      },
      "source": [
        "**Reasoning**:\n",
        "Define example legal case data and call the `generate_legal_summary` function to test the complete setup. Check if the summary is not None and print it or a failure message. Ensure the API key is set correctly within the code block.\n",
        "\n"
      ]
    },
    {
      "cell_type": "code",
      "metadata": {
        "colab": {
          "base_uri": "https://localhost:8080/",
          "height": 176
        },
        "id": "e722c64d",
        "outputId": "8d85db6f-cc3c-47ca-832c-8ab476f081a6"
      },
      "source": [
        "genai.configure(api_key=\"YOUR_API_KEY\")\n",
        "\n",
        "case_facts = \"\"\"\n",
        "In the case of Apple Inc. v. Samsung Electronics Co., Ltd., the dispute involved allegations of patent infringement regarding smartphone technology. Apple claimed Samsung's Galaxy line of products infringed upon Apple's patents related to design and utility features of the iPhone. The case was filed in the United States District Court for the Northern District of California.\n",
        "\"\"\"\n",
        "\n",
        "case_ruling = \"\"\"\n",
        "The court found Samsung liable for infringing several of Apple's design and utility patents. A jury awarded Apple over $1 billion in damages, which was later reduced after appeals. The ruling affirmed the protectability of smartphone design and functionality under existing patent law, including elements like the rounded corners and grid of icons.\n",
        "\"\"\"\n",
        "\n",
        "context = \"\"\"\n",
        "Our client is developing a new mobile device and wants to ensure they avoid infringing on existing patents, particularly in the areas of user interface design and hardware features similar to those involved in the Apple v. Samsung case. We need to understand the key aspects of that ruling to advise them properly.\n",
        "\"\"\"\n",
        "\n",
        "# Ensure that the generate_legal_summary function and model are defined from previous steps\n",
        "# and that the prompt_template is also defined.\n",
        "\n",
        "summary = generate_legal_summary(model, prompt_template, case_facts, case_ruling, context)\n",
        "\n",
        "if summary:\n",
        "    print(summary)\n",
        "else:\n",
        "    print(\"Failed to generate a valid summary.\")"
      ],
      "execution_count": 9,
      "outputs": [
        {
          "output_type": "stream",
          "name": "stderr",
          "text": [
            "WARNING:tornado.access:400 POST /v1beta/models/gemini-1.5-flash:generateContent?%24alt=json%3Benum-encoding%3Dint (127.0.0.1) 986.72ms\n"
          ]
        },
        {
          "output_type": "stream",
          "name": "stdout",
          "text": [
            "An error occurred during generation on attempt 1: 400 POST https://generativelanguage.googleapis.com/v1beta/models/gemini-1.5-flash:generateContent?%24alt=json%3Benum-encoding%3Dint: API key not valid. Please pass a valid API key.\n"
          ]
        },
        {
          "output_type": "stream",
          "name": "stderr",
          "text": [
            "WARNING:tornado.access:400 POST /v1beta/models/gemini-1.5-flash:generateContent?%24alt=json%3Benum-encoding%3Dint (127.0.0.1) 1339.97ms\n"
          ]
        },
        {
          "output_type": "stream",
          "name": "stdout",
          "text": [
            "An error occurred during generation on attempt 2: 400 POST https://generativelanguage.googleapis.com/v1beta/models/gemini-1.5-flash:generateContent?%24alt=json%3Benum-encoding%3Dint: API key not valid. Please pass a valid API key.\n",
            "An error occurred during generation on attempt 3: 400 POST https://generativelanguage.googleapis.com/v1beta/models/gemini-1.5-flash:generateContent?%24alt=json%3Benum-encoding%3Dint: API key not valid. Please pass a valid API key.\n",
            "Failed to generate a valid summary after 3 attempts.\n",
            "Failed to generate a valid summary.\n"
          ]
        },
        {
          "output_type": "stream",
          "name": "stderr",
          "text": [
            "WARNING:tornado.access:400 POST /v1beta/models/gemini-1.5-flash:generateContent?%24alt=json%3Benum-encoding%3Dint (127.0.0.1) 935.71ms\n"
          ]
        }
      ]
    },
    {
      "cell_type": "markdown",
      "metadata": {
        "id": "c1326ce0"
      },
      "source": [
        "## Summary:\n",
        "\n",
        "### Data Analysis Key Findings\n",
        "\n",
        "*   The necessary libraries (`google-generativeai` and `tiktoken`) for building the AI tool were successfully installed and imported.\n",
        "*   The AI model (`gemini-1.5-flash`) was configured with the specified temperature (0.2) and maximum output tokens (400).\n",
        "*   A detailed prompt template was created, incorporating the persona of a 42-year-old IP consultant, defining the required output sections (\"Background,\" \"Ruling,\" and \"Relevance to Context\"), and instructing the inclusion of legal elements.\n",
        "*   Guardrails were implemented through Python functions (`enforce_guardrails` and `generate_legal_summary`) to check for required sections and token length (300-480 tokens) and include a retry mechanism for generation.\n",
        "*   Testing of the complete setup with example data failed because a valid API key for the generative AI model was not provided, preventing successful authentication and generation of the summary.\n",
        "\n",
        "### Insights or Next Steps\n",
        "\n",
        "*   The primary next step is to provide a valid API key for the `google-generativeai` service to enable successful testing and operation of the legal case summary tool.\n",
        "*   Once a valid API key is provided, re-run the test case to confirm that the AI model generates summaries adhering to the defined prompt template, format, token length, and guardrail requirements.\n"
      ]
    }
  ]
}